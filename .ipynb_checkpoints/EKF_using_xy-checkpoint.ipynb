{
 "cells": [
  {
   "cell_type": "markdown",
   "metadata": {},
   "source": [
    "# Extended Kalman Filter :  X and Y as input"
   ]
  },
  {
   "cell_type": "markdown",
   "metadata": {},
   "source": [
    "### Importing necessary modules"
   ]
  },
  {
   "cell_type": "code",
   "execution_count": 1,
   "metadata": {},
   "outputs": [],
   "source": [
    "import math\n",
    "import numpy as np\n",
    "from numpy import genfromtxt\n",
    "import matplotlib.pyplot as plt"
   ]
  },
  {
   "cell_type": "markdown",
   "metadata": {},
   "source": [
    "### Importing csv files and reading the data"
   ]
  },
  {
   "cell_type": "code",
   "execution_count": 2,
   "metadata": {},
   "outputs": [
    {
     "ename": "OSError",
     "evalue": "true_odometry.csv not found.",
     "output_type": "error",
     "traceback": [
      "\u001b[0;31m---------------------------------------------------------------------------\u001b[0m",
      "\u001b[0;31mOSError\u001b[0m                                   Traceback (most recent call last)",
      "\u001b[0;32m<ipython-input-2-383aa09fcbd3>\u001b[0m in \u001b[0;36m<module>\u001b[0;34m\u001b[0m\n\u001b[0;32m----> 1\u001b[0;31m \u001b[0mtrue_odo\u001b[0m \u001b[0;34m=\u001b[0m \u001b[0mgenfromtxt\u001b[0m\u001b[0;34m(\u001b[0m\u001b[0;34m'true_odometry.csv'\u001b[0m\u001b[0;34m,\u001b[0m \u001b[0mdelimiter\u001b[0m\u001b[0;34m=\u001b[0m\u001b[0;34m','\u001b[0m\u001b[0;34m)\u001b[0m\u001b[0;34m\u001b[0m\u001b[0;34m\u001b[0m\u001b[0m\n\u001b[0m\u001b[1;32m      2\u001b[0m \u001b[0msen_odo\u001b[0m \u001b[0;34m=\u001b[0m \u001b[0mgenfromtxt\u001b[0m\u001b[0;34m(\u001b[0m\u001b[0;34m'sensor_odom.csv'\u001b[0m\u001b[0;34m,\u001b[0m\u001b[0mdelimiter\u001b[0m\u001b[0;34m=\u001b[0m\u001b[0;34m','\u001b[0m\u001b[0;34m)\u001b[0m\u001b[0;34m\u001b[0m\u001b[0;34m\u001b[0m\u001b[0m\n",
      "\u001b[0;32m/usr/local/lib/python3.7/site-packages/numpy/lib/npyio.py\u001b[0m in \u001b[0;36mgenfromtxt\u001b[0;34m(fname, dtype, comments, delimiter, skip_header, skip_footer, converters, missing_values, filling_values, usecols, names, excludelist, deletechars, replace_space, autostrip, case_sensitive, defaultfmt, unpack, usemask, loose, invalid_raise, max_rows, encoding)\u001b[0m\n\u001b[1;32m   1770\u001b[0m             \u001b[0mfname\u001b[0m \u001b[0;34m=\u001b[0m \u001b[0mos_fspath\u001b[0m\u001b[0;34m(\u001b[0m\u001b[0mfname\u001b[0m\u001b[0;34m)\u001b[0m\u001b[0;34m\u001b[0m\u001b[0;34m\u001b[0m\u001b[0m\n\u001b[1;32m   1771\u001b[0m         \u001b[0;32mif\u001b[0m \u001b[0misinstance\u001b[0m\u001b[0;34m(\u001b[0m\u001b[0mfname\u001b[0m\u001b[0;34m,\u001b[0m \u001b[0mbasestring\u001b[0m\u001b[0;34m)\u001b[0m\u001b[0;34m:\u001b[0m\u001b[0;34m\u001b[0m\u001b[0;34m\u001b[0m\u001b[0m\n\u001b[0;32m-> 1772\u001b[0;31m             \u001b[0mfid\u001b[0m \u001b[0;34m=\u001b[0m \u001b[0mnp\u001b[0m\u001b[0;34m.\u001b[0m\u001b[0mlib\u001b[0m\u001b[0;34m.\u001b[0m\u001b[0m_datasource\u001b[0m\u001b[0;34m.\u001b[0m\u001b[0mopen\u001b[0m\u001b[0;34m(\u001b[0m\u001b[0mfname\u001b[0m\u001b[0;34m,\u001b[0m \u001b[0;34m'rt'\u001b[0m\u001b[0;34m,\u001b[0m \u001b[0mencoding\u001b[0m\u001b[0;34m=\u001b[0m\u001b[0mencoding\u001b[0m\u001b[0;34m)\u001b[0m\u001b[0;34m\u001b[0m\u001b[0;34m\u001b[0m\u001b[0m\n\u001b[0m\u001b[1;32m   1773\u001b[0m             \u001b[0mfid_ctx\u001b[0m \u001b[0;34m=\u001b[0m \u001b[0mcontextlib\u001b[0m\u001b[0;34m.\u001b[0m\u001b[0mclosing\u001b[0m\u001b[0;34m(\u001b[0m\u001b[0mfid\u001b[0m\u001b[0;34m)\u001b[0m\u001b[0;34m\u001b[0m\u001b[0;34m\u001b[0m\u001b[0m\n\u001b[1;32m   1774\u001b[0m         \u001b[0;32melse\u001b[0m\u001b[0;34m:\u001b[0m\u001b[0;34m\u001b[0m\u001b[0;34m\u001b[0m\u001b[0m\n",
      "\u001b[0;32m/usr/local/lib/python3.7/site-packages/numpy/lib/_datasource.py\u001b[0m in \u001b[0;36mopen\u001b[0;34m(path, mode, destpath, encoding, newline)\u001b[0m\n\u001b[1;32m    267\u001b[0m \u001b[0;34m\u001b[0m\u001b[0m\n\u001b[1;32m    268\u001b[0m     \u001b[0mds\u001b[0m \u001b[0;34m=\u001b[0m \u001b[0mDataSource\u001b[0m\u001b[0;34m(\u001b[0m\u001b[0mdestpath\u001b[0m\u001b[0;34m)\u001b[0m\u001b[0;34m\u001b[0m\u001b[0;34m\u001b[0m\u001b[0m\n\u001b[0;32m--> 269\u001b[0;31m     \u001b[0;32mreturn\u001b[0m \u001b[0mds\u001b[0m\u001b[0;34m.\u001b[0m\u001b[0mopen\u001b[0m\u001b[0;34m(\u001b[0m\u001b[0mpath\u001b[0m\u001b[0;34m,\u001b[0m \u001b[0mmode\u001b[0m\u001b[0;34m,\u001b[0m \u001b[0mencoding\u001b[0m\u001b[0;34m=\u001b[0m\u001b[0mencoding\u001b[0m\u001b[0;34m,\u001b[0m \u001b[0mnewline\u001b[0m\u001b[0;34m=\u001b[0m\u001b[0mnewline\u001b[0m\u001b[0;34m)\u001b[0m\u001b[0;34m\u001b[0m\u001b[0;34m\u001b[0m\u001b[0m\n\u001b[0m\u001b[1;32m    270\u001b[0m \u001b[0;34m\u001b[0m\u001b[0m\n\u001b[1;32m    271\u001b[0m \u001b[0;34m\u001b[0m\u001b[0m\n",
      "\u001b[0;32m/usr/local/lib/python3.7/site-packages/numpy/lib/_datasource.py\u001b[0m in \u001b[0;36mopen\u001b[0;34m(self, path, mode, encoding, newline)\u001b[0m\n\u001b[1;32m    621\u001b[0m                                       encoding=encoding, newline=newline)\n\u001b[1;32m    622\u001b[0m         \u001b[0;32melse\u001b[0m\u001b[0;34m:\u001b[0m\u001b[0;34m\u001b[0m\u001b[0;34m\u001b[0m\u001b[0m\n\u001b[0;32m--> 623\u001b[0;31m             \u001b[0;32mraise\u001b[0m \u001b[0mIOError\u001b[0m\u001b[0;34m(\u001b[0m\u001b[0;34m\"%s not found.\"\u001b[0m \u001b[0;34m%\u001b[0m \u001b[0mpath\u001b[0m\u001b[0;34m)\u001b[0m\u001b[0;34m\u001b[0m\u001b[0;34m\u001b[0m\u001b[0m\n\u001b[0m\u001b[1;32m    624\u001b[0m \u001b[0;34m\u001b[0m\u001b[0m\n\u001b[1;32m    625\u001b[0m \u001b[0;34m\u001b[0m\u001b[0m\n",
      "\u001b[0;31mOSError\u001b[0m: true_odometry.csv not found."
     ]
    }
   ],
   "source": [
    "true_odo = genfromtxt('true_odometry.csv', delimiter=',')\n",
    "sen_odo = genfromtxt('sensor_odom.csv',delimiter=',')"
   ]
  },
  {
   "cell_type": "markdown",
   "metadata": {},
   "source": [
    "### Splitting the data into individual arrays"
   ]
  },
  {
   "cell_type": "code",
   "execution_count": null,
   "metadata": {},
   "outputs": [],
   "source": [
    "sen_pos_x, sen_pos_y = sen_odo[1:,1], sen_odo[1:,2]\n",
    "sen_pos_theta = sen_odo[1:,3]\n",
    "\n",
    "true_x, true_y, true_theta = true_odo[1:,1], true_odo[1:,2], true_odo[1:,3]\n",
    "v, w = true_odo[1:,4], true_odo[1:,5]\n",
    "time = sen_odo[1:,0]"
   ]
  },
  {
   "cell_type": "markdown",
   "metadata": {},
   "source": [
    "### Observation that we are making - x and y position"
   ]
  },
  {
   "cell_type": "code",
   "execution_count": null,
   "metadata": {},
   "outputs": [],
   "source": [
    "z = np.c_[sen_pos_x, sen_pos_y]"
   ]
  },
  {
   "cell_type": "markdown",
   "metadata": {},
   "source": [
    "### Defining Prediction Function"
   ]
  },
  {
   "cell_type": "code",
   "execution_count": null,
   "metadata": {},
   "outputs": [],
   "source": [
    "def Prediction(x_t, P_t, F_t, B_t, U_t, G_t, Q_t):\n",
    "    x_t = F_t.dot(x_t) + B_t.dot(U_t) \n",
    "    P_t = (G_t.dot(P_t).dot(G_t.T)) + Q_t\n",
    "\n",
    "    return x_t, P_t"
   ]
  },
  {
   "cell_type": "markdown",
   "metadata": {},
   "source": [
    "### Defining Update Function"
   ]
  },
  {
   "cell_type": "code",
   "execution_count": null,
   "metadata": {},
   "outputs": [],
   "source": [
    "def Update(x_t, P_t, Z_t, R_t, H_t):\n",
    "    S = np.linalg.inv( (H_t.dot(P_t).dot(H_t.T)) + R_t )\n",
    "    K = P_t.dot(H_t.T).dot(S)\n",
    "\n",
    "    x_t = x_t + K.dot( Z_t - H_t.dot(x_t) )\n",
    "    P_t = P_t - K.dot(H_t).dot(P_t)\n",
    "\n",
    "    return x_t, P_t"
   ]
  },
  {
   "cell_type": "markdown",
   "metadata": {},
   "source": [
    "### Defining various Matrix that will be used in the Filter"
   ]
  },
  {
   "cell_type": "code",
   "execution_count": null,
   "metadata": {},
   "outputs": [],
   "source": [
    "# Transition Matrix\n",
    "F_t = np.array([  [1, 0, 0],\n",
    "                  [0, 1, 0],\n",
    "                  [0, 0, 1]  ])\n",
    "\n",
    "\n",
    "# Initial Covariance State\n",
    "P_t = 0.005 * np.identity(3)\n",
    "\n",
    "# Process Covariance\n",
    "Q_t = 0.044 * np.identity(3)\n",
    "\n",
    "# Measurement Covariance\n",
    "R_t = np.array([    [0.24, 0],\n",
    "                    [0, 0.24]  ])\n",
    "\n",
    "# Measurement Matrix\n",
    "H_t = np.array([    [1, 0, 0],\n",
    "                    [0, 1, 0]   ])\n",
    "\n",
    "# Initial State\n",
    "x_t = np.array([ [sen_pos_x[0]], [sen_pos_y[0]], [sen_pos_theta[0]] ])"
   ]
  },
  {
   "cell_type": "markdown",
   "metadata": {},
   "source": [
    "### Defining empty lists which will be used for plotting purposes later"
   ]
  },
  {
   "cell_type": "code",
   "execution_count": null,
   "metadata": {},
   "outputs": [],
   "source": [
    "kal_x, kal_y, kal_theta = [], [], []"
   ]
  },
  {
   "cell_type": "markdown",
   "metadata": {},
   "source": [
    "## Kalman Filter _ main loop"
   ]
  },
  {
   "cell_type": "code",
   "execution_count": null,
   "metadata": {},
   "outputs": [],
   "source": [
    "for i in range(2113):\n",
    "    if i > 0:\n",
    "        dt = time[i] - time[i-1]\n",
    "    else:\n",
    "        dt = 0\n",
    "\n",
    "    # Jacobian Matrix - G\n",
    "    G_t = np.array([    [1, 0, -v[i]*(math.sin(sen_pos_theta[i]))*dt],\n",
    "                        [0, 1, v[i]*(math.cos(sen_pos_theta[i]))*dt],\n",
    "                        [0, 0, 1]                                      ])\n",
    "    # Input Transition Matrix - B\n",
    "    B_t = np.array([    [dt * (math.cos(sen_pos_theta[i])), 0],\n",
    "                        [dt * (math.sin(sen_pos_theta[i])), 0],\n",
    "                        [0, dt]                                    ])\n",
    "    # Input to the system - v and w ( velocity and turning rate )\n",
    "    U_t = np.array([    [v[i]],\n",
    "                        [w[i]]     ])\n",
    "\n",
    "    # Prediction Step\n",
    "    x_t, P_t = Prediction(x_t, P_t, F_t, B_t, U_t, G_t, Q_t)\n",
    "\n",
    "    # Reshaping the measurement data\n",
    "    Z_t = z[i].transpose()\n",
    "    Z_t = Z_t.reshape(Z_t.shape[0], -1)\n",
    "\n",
    "    # Update Step\n",
    "    x_t, P_t = Update(x_t, P_t, Z_t, R_t, H_t)\n",
    "    \n",
    "    kal_x.append(x_t[0])\n",
    "    kal_y.append(x_t[1])\n",
    "    kal_theta.append(x_t[2])"
   ]
  },
  {
   "cell_type": "code",
   "execution_count": null,
   "metadata": {},
   "outputs": [],
   "source": [
    "print('*'*50)\n",
    "print('\\n',\" Final Filter State Matrix : \\n\", x_t,'\\n')\n",
    "print('*'*50)"
   ]
  },
  {
   "cell_type": "markdown",
   "metadata": {},
   "source": [
    "## Plotting"
   ]
  },
  {
   "cell_type": "markdown",
   "metadata": {},
   "source": [
    "### For Plotting Purposes"
   ]
  },
  {
   "cell_type": "code",
   "execution_count": null,
   "metadata": {},
   "outputs": [],
   "source": [
    "kal_x = np.concatenate(kal_x).ravel()\n",
    "kal_y = np.concatenate(kal_y).ravel()\n",
    "kal_theta = np.concatenate(kal_theta).ravel()"
   ]
  },
  {
   "cell_type": "code",
   "execution_count": null,
   "metadata": {},
   "outputs": [],
   "source": [
    "plt.figure(1)\n",
    "plt.title('Estimated (Kalman) Pos X vs True Pos X', fontweight='bold') \n",
    "plt.plot(time,kal_x[:],'g--')\n",
    "plt.plot(time,true_x, linewidth=3)\n",
    "\n",
    "\n",
    "plt.figure(2)\n",
    "plt.title('Estimated (Kalman) Pos Y vs True Pos Y', fontweight='bold') \n",
    "plt.plot(time,kal_y[:],'g--')\n",
    "plt.plot(time,true_y, linewidth=3)\n",
    "\n",
    "plt.figure(3)\n",
    "plt.title('Estimated (Kalman) Theta vs True Theta', fontweight='bold') \n",
    "plt.plot(time,kal_theta[:],'o--')\n",
    "plt.plot(time,true_theta, linewidth=2)\n",
    "\n",
    "\n",
    "plt.figure(4)\n",
    "plt.title('Robot Position : Kalman vs True', fontweight='bold')\n",
    "plt.plot(kal_x,kal_y,'g--')\n",
    "plt.plot(true_x,true_y, linewidth=3)\n",
    "\n",
    "\n",
    "plt.show()"
   ]
  },
  {
   "cell_type": "markdown",
   "metadata": {},
   "source": [
    "### Statistically Comparing True and Filtered (Estimated) Data "
   ]
  },
  {
   "cell_type": "code",
   "execution_count": null,
   "metadata": {},
   "outputs": [],
   "source": [
    "std_k_x = np.std(kal_x)\n",
    "std_true_x = np.std(true_x)\n",
    "\n",
    "print('*'*10)\n",
    "print(\" X co-ordinate\")\n",
    "print(' Standard Deviation Kalman : ', std_k_x)\n",
    "print(' Standard Deviation True : ', std_true_x)\n",
    "\n",
    "mean_k_x = np.mean(kal_x)\n",
    "mean_true_x = np.mean(true_x)\n",
    "\n",
    "print(' Mean Kalman : ', mean_k_x)\n",
    "print(' Mean True : ', mean_true_x, '\\n')\n",
    "\n",
    "std_k_y = np.std(kal_y)\n",
    "std_true_y = np.std(true_y)\n",
    "\n",
    "print('*'*10)\n",
    "print(\" Y co-ordinate \")\n",
    "print(' Standard Deviation Kalman : ', std_k_y)\n",
    "print(' Standard Deviation True : ', std_true_y)\n",
    "\n",
    "mean_k_y = np.mean(kal_y)\n",
    "mean_true_y = np.mean(true_y)\n",
    "\n",
    "print(' Mean Kalman : ', mean_k_y)\n",
    "print(' Mean True : ', mean_true_y, '\\n')\n",
    "\n",
    "std_k_theta = np.std(kal_theta)\n",
    "std_true_theta = np.std(true_theta)\n",
    "\n",
    "print('*'*10)\n",
    "print(\" Theta \")\n",
    "print(' Standard Deviation Kalman : ', std_k_theta)\n",
    "print(' Standard Deviation True : ', std_true_theta)\n",
    "\n",
    "mean_k_theta = np.mean(kal_theta)\n",
    "mean_true_theta = np.mean(true_theta)\n",
    "\n",
    "print(' Mean Kalman : ', mean_k_theta)\n",
    "print(' Mean True : ', mean_true_theta, '\\n')"
   ]
  }
 ],
 "metadata": {
  "kernelspec": {
   "display_name": "Python 3.7.6 64-bit",
   "language": "python",
   "name": "python37664bitf4e1b261831a4239886c77d936d7843c"
  },
  "language_info": {
   "codemirror_mode": {
    "name": "ipython",
    "version": 3
   },
   "file_extension": ".py",
   "mimetype": "text/x-python",
   "name": "python",
   "nbconvert_exporter": "python",
   "pygments_lexer": "ipython3",
   "version": "3.7.6"
  }
 },
 "nbformat": 4,
 "nbformat_minor": 2
}
